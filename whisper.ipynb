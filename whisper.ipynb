{
  "nbformat": 4,
  "nbformat_minor": 0,
  "metadata": {
    "colab": {
      "provenance": [],
      "gpuType": "T4",
      "authorship_tag": "ABX9TyM1woe6pVsNnGs9ExWW8m55",
      "include_colab_link": true
    },
    "kernelspec": {
      "name": "python3",
      "display_name": "Python 3"
    },
    "language_info": {
      "name": "python"
    },
    "accelerator": "GPU"
  },
  "cells": [
    {
      "cell_type": "markdown",
      "metadata": {
        "id": "view-in-github",
        "colab_type": "text"
      },
      "source": [
        "<a href=\"https://colab.research.google.com/github/sudolifeagain/transcribe-edit/blob/main/whisper.ipynb\" target=\"_parent\"><img src=\"https://colab.research.google.com/assets/colab-badge.svg\" alt=\"Open In Colab\"/></a>"
      ]
    },
    {
      "cell_type": "code",
      "execution_count": null,
      "metadata": {
        "id": "QfcgzNbuer6S"
      },
      "outputs": [],
      "source": [
        "!pip install git+https://github.com/openai/whisper.git\n",
        "!sudo apt update && sudo apt install -y ffmpeg\n"
      ]
    },
    {
      "cell_type": "code",
      "source": [
        "from google.colab import files\n",
        "import whisper\n",
        "\n",
        "# ファイルアップロード\n",
        "uploaded = files.upload()\n",
        "\n",
        "# アップロードされたファイル名を取得\n",
        "audio_path = next(iter(uploaded))\n",
        "\n",
        "# Whisper モデルの読み込み\n",
        "model = whisper.load_model(\"large\")  # 必要に応じて \"small\" や \"large\" に変更\n",
        "\n",
        "# 音声ファイルの文字起こし（タイムスタンプ付き）\n",
        "result = model.transcribe(audio_path, verbose=True)\n",
        "\n",
        "# セグメントごとに出力\n",
        "for segment in result['segments']:\n",
        "    print(f\"[{segment['start']:.2f} - {segment['end']:.2f}] {segment['text']}\")\n"
      ],
      "metadata": {
        "id": "G-v1jimdhizj"
      },
      "execution_count": null,
      "outputs": []
    },
    {
      "cell_type": "code",
      "source": [
        "with open(\"transcription.txt\", \"w\", encoding=\"utf-8\") as f:\n",
        "    for segment in result['segments']:\n",
        "        f.write(f\"[{segment['start']:.2f} - {segment['end']:.2f}] {segment['text']}\\n\")\n",
        "\n",
        "# ファイルのダウンロードリンクを表示\n",
        "files.download(\"transcription.txt\")\n"
      ],
      "metadata": {
        "id": "kD-CqO2Op1NF"
      },
      "execution_count": null,
      "outputs": []
    }
  ]
}