{
  "cells": [
    {
      "cell_type": "markdown",
      "metadata": {
        "colab_type": "text",
        "id": "view-in-github"
      },
      "source": [
        "<a href=\"https://colab.research.google.com/github/sudolifeagain/transcribe-edit/blob/main/whisper.ipynb\" target=\"_parent\"><img src=\"https://colab.research.google.com/assets/colab-badge.svg\" alt=\"Open In Colab\"/></a>"
      ]
    },
    {
      "cell_type": "code",
      "execution_count": null,
      "metadata": {
        "id": "G-v1jimdhizj"
      },
      "outputs": [],
      "source": [
        "# installing\n",
        "!pip install -q git+https://github.com/openai/whisper.git\n",
        "\n",
        "\n",
        "from google.colab import files\n",
        "import whisper\n",
        "\n",
        "uploaded = files.upload()\n",
        "\n",
        "audio_path = next(iter(uploaded))\n",
        "\n",
        "# モデルの選択\n",
        "model = whisper.load_model(\"large\")  # \"tiny\",\"base\",\"small\",\"medium\",\"large\",\"turbo\"が選択可能\n",
        "\n",
        "result = model.transcribe(audio_path, verbose=True)\n",
        "\n",
        "\n",
        "for segment in result['segments']:\n",
        "    print(f\"[{segment['start']:.2f} - {segment['end']:.2f}] {segment['text']}\")\n"
      ]
    },
    {
      "cell_type": "code",
      "execution_count": null,
      "metadata": {
        "id": "kD-CqO2Op1NF"
      },
      "outputs": [],
      "source": [
        "# transcription.txtでダウンロード可能\n",
        "with open(\"transcription.txt\", \"w\", encoding=\"utf-8\") as f:\n",
        "    for segment in result['segments']:\n",
        "        f.write(f\"[{segment['start']:.2f} - {segment['end']:.2f}] {segment['text']}\\n\")\n",
        "\n",
        "files.download(\"transcription.txt\")\n"
      ]
    }
  ],
  "metadata": {
    "accelerator": "GPU",
    "colab": {
      "authorship_tag": "ABX9TyM1woe6pVsNnGs9ExWW8m55",
      "gpuType": "T4",
      "include_colab_link": true,
      "provenance": []
    },
    "kernelspec": {
      "display_name": "Python 3",
      "name": "python3"
    },
    "language_info": {
      "name": "python"
    }
  },
  "nbformat": 4,
  "nbformat_minor": 0
}
